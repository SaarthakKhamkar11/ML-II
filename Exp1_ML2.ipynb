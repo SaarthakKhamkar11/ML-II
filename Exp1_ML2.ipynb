{
  "cells": [
    {
      "cell_type": "markdown",
      "metadata": {
        "id": "dlG7Izj7JfuJ"
      },
      "source": [
        "Name: Saarthak Khamkar\n",
        "\n",
        "Sap ID: 60009230057\n",
        "\n",
        "Roll No: D088"
      ]
    },
    {
      "cell_type": "code",
      "execution_count": 1,
      "metadata": {
        "id": "6qQuNqkE5BRq"
      },
      "outputs": [],
      "source": [
        "import numpy as np"
      ]
    },
    {
      "cell_type": "code",
      "execution_count": 2,
      "metadata": {
        "id": "-0IfQHohHrkS"
      },
      "outputs": [],
      "source": [
        "def step_function(total,threshold):\n",
        "    return 1 if total >= threshold else 0"
      ]
    },
    {
      "cell_type": "code",
      "execution_count": 3,
      "metadata": {
        "id": "ZHy0wuUUFGgK"
      },
      "outputs": [],
      "source": [
        "def perceptron(x1, x2, w1, w2, threshold):\n",
        "    total = x1 * w1 + x2 * w2\n",
        "    return step_function(total, threshold)"
      ]
    },
    {
      "cell_type": "code",
      "execution_count": 4,
      "metadata": {
        "id": "NgNTjlCJH5MF"
      },
      "outputs": [],
      "source": [
        "def and_gate(x1, x2):\n",
        "    return perceptron(x1, x2, 1, 1, 2)"
      ]
    },
    {
      "cell_type": "code",
      "execution_count": 5,
      "metadata": {
        "colab": {
          "base_uri": "https://localhost:8080/"
        },
        "id": "kD_6P-9gHXTa",
        "outputId": "b3b835f5-fe3a-4892-9e2c-3ff9399fffd4"
      },
      "outputs": [
        {
          "name": "stdout",
          "output_type": "stream",
          "text": [
            "AND Gate\n",
            "Input: (0,0) output: 0\n",
            "Input: (0,1) output: 0\n",
            "Input: (1,0) output: 0\n",
            "Input: (1,1) output: 1\n"
          ]
        }
      ],
      "source": [
        "inputs = [(0, 0), (0, 1), (1, 0), (1, 1)]\n",
        "print(\"AND Gate\")\n",
        "for x1, x2 in inputs:\n",
        "    print(f\"Input: ({x1},{x2}) output: {and_gate(x1, x2)}\")"
      ]
    },
    {
      "cell_type": "code",
      "execution_count": 6,
      "metadata": {
        "id": "d0Q1Li3gGF0W"
      },
      "outputs": [],
      "source": [
        "def andnot_gate(x1, x2):\n",
        "    return perceptron(x1, x2, 1, -1, 1)"
      ]
    },
    {
      "cell_type": "code",
      "execution_count": 7,
      "metadata": {
        "colab": {
          "base_uri": "https://localhost:8080/"
        },
        "id": "X0KPQRUTGNkt",
        "outputId": "0d84c1e1-149b-437d-8e58-ebdf546c57aa"
      },
      "outputs": [
        {
          "name": "stdout",
          "output_type": "stream",
          "text": [
            "AndNOT Gate\n",
            "Input: (0,0) output: 0\n",
            "Input: (0,1) output: 0\n",
            "Input: (1,0) output: 1\n",
            "Input: (1,1) output: 0\n"
          ]
        }
      ],
      "source": [
        "inputs = [(0, 0), (0, 1), (1, 0), (1, 1)]\n",
        "print(\"AndNOT Gate\")\n",
        "for x1, x2 in inputs:\n",
        "    print(f\"Input: ({x1},{x2}) output: {andnot_gate(x1, x2)}\")"
      ]
    },
    {
      "cell_type": "code",
      "execution_count": 8,
      "metadata": {
        "id": "HRrlZ99-H7sV"
      },
      "outputs": [],
      "source": [
        "def or_gate(x1, x2):\n",
        "    return perceptron(x1, x2, 1, 1, 1)"
      ]
    },
    {
      "cell_type": "code",
      "execution_count": 9,
      "metadata": {
        "colab": {
          "base_uri": "https://localhost:8080/"
        },
        "id": "QllR3LJhHeer",
        "outputId": "b03933b3-d599-4b8a-b9bc-8b9e10a91049"
      },
      "outputs": [
        {
          "name": "stdout",
          "output_type": "stream",
          "text": [
            "OR Gate\n",
            "Input: (0,0) output: 0\n",
            "Input: (0,1) output: 1\n",
            "Input: (1,0) output: 1\n",
            "Input: (1,1) output: 1\n"
          ]
        }
      ],
      "source": [
        "inputs = [(0, 0), (0, 1), (1, 0), (1, 1)]\n",
        "print(\"OR Gate\")\n",
        "for x1, x2 in inputs:\n",
        "    print(f\"Input: ({x1},{x2}) output: {or_gate(x1, x2)}\")\n"
      ]
    },
    {
      "cell_type": "code",
      "execution_count": 10,
      "metadata": {
        "id": "8QOsTd2jH_RF"
      },
      "outputs": [],
      "source": [
        "def nor_gate(x1, x2):\n",
        "    return perceptron(x1, x2, -1, -1, 0)"
      ]
    },
    {
      "cell_type": "code",
      "execution_count": 11,
      "metadata": {
        "colab": {
          "base_uri": "https://localhost:8080/"
        },
        "id": "m0EGomK3HgrT",
        "outputId": "93823e2f-97af-4ce5-e337-5c76ca0087b2"
      },
      "outputs": [
        {
          "name": "stdout",
          "output_type": "stream",
          "text": [
            "NOR Gate\n",
            "Input: (0,0) output: 1\n",
            "Input: (0,1) output: 0\n",
            "Input: (1,0) output: 0\n",
            "Input: (1,1) output: 0\n"
          ]
        }
      ],
      "source": [
        "inputs = [(0, 0), (0, 1), (1, 0), (1, 1)]\n",
        "print(\"NOR Gate\")\n",
        "for x1, x2 in inputs:\n",
        "    print(f\"Input: ({x1},{x2}) output: {nor_gate(x1, x2)}\")\n"
      ]
    },
    {
      "cell_type": "code",
      "execution_count": 12,
      "metadata": {
        "id": "m5ch-DLBH9K1"
      },
      "outputs": [],
      "source": [
        "def nand_gate(x1, x2):\n",
        "    return perceptron(x1, x2, -1, -1, -1)"
      ]
    },
    {
      "cell_type": "code",
      "execution_count": 13,
      "metadata": {
        "colab": {
          "base_uri": "https://localhost:8080/"
        },
        "id": "acTx3z-rHfs6",
        "outputId": "3a1325cb-819e-4b04-ff0f-3a3331c70b36"
      },
      "outputs": [
        {
          "name": "stdout",
          "output_type": "stream",
          "text": [
            "NAND Gate\n",
            "Input: (0,0) output: 1\n",
            "Input: (0,1) output: 1\n",
            "Input: (1,0) output: 1\n",
            "Input: (1,1) output: 0\n"
          ]
        }
      ],
      "source": [
        "inputs = [(0, 0), (0, 1), (1, 0), (1, 1)]\n",
        "print(\"NAND Gate\")\n",
        "for x1, x2 in inputs:\n",
        "    print(f\"Input: ({x1},{x2}) output: {nand_gate(x1, x2)}\")\n"
      ]
    },
    {
      "cell_type": "code",
      "execution_count": 14,
      "metadata": {
        "id": "DWtXJvZ0ICjw"
      },
      "outputs": [],
      "source": [
        "def xor_gate(x1, x2):\n",
        "    first_nand = nand_gate(x1, x2)\n",
        "    second_nand = nand_gate(x1, first_nand)\n",
        "    third_nand = nand_gate(x2, first_nand)\n",
        "    return nand_gate(second_nand, third_nand)"
      ]
    },
    {
      "cell_type": "code",
      "execution_count": 15,
      "metadata": {
        "colab": {
          "base_uri": "https://localhost:8080/"
        },
        "id": "foBdloqhHhlr",
        "outputId": "9068264b-2149-4f1e-b295-5e52d56fff2f"
      },
      "outputs": [
        {
          "name": "stdout",
          "output_type": "stream",
          "text": [
            "XOR Gate\n",
            "Input: (0,0) output: 0\n",
            "Input: (0,1) output: 1\n",
            "Input: (1,0) output: 1\n",
            "Input: (1,1) output: 0\n"
          ]
        }
      ],
      "source": [
        "inputs = [(0, 0), (0, 1), (1, 0), (1, 1)]\n",
        "print(\"XOR Gate\")\n",
        "for x1, x2 in inputs:\n",
        "    print(f\"Input: ({x1},{x2}) output: {xor_gate(x1, x2)}\")\n"
      ]
    },
    {
      "cell_type": "markdown",
      "metadata": {
        "id": "M41ryO_FML72"
      },
      "source": [
        "COLAB LINK: https://colab.research.google.com/drive/1PmD-I2TK2TU_l7L_oVeahNeMWIbnqVT8?usp=sharing"
      ]
    }
  ],
  "metadata": {
    "colab": {
      "provenance": []
    },
    "kernelspec": {
      "display_name": "Python 3",
      "name": "python3"
    },
    "language_info": {
      "codemirror_mode": {
        "name": "ipython",
        "version": 3
      },
      "file_extension": ".py",
      "mimetype": "text/x-python",
      "name": "python",
      "nbconvert_exporter": "python",
      "pygments_lexer": "ipython3",
      "version": "3.11.9"
    }
  },
  "nbformat": 4,
  "nbformat_minor": 0
}

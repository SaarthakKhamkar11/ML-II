{
  "nbformat": 4,
  "nbformat_minor": 0,
  "metadata": {
    "colab": {
      "provenance": []
    },
    "kernelspec": {
      "name": "python3",
      "display_name": "Python 3"
    },
    "language_info": {
      "name": "python"
    }
  },
  "cells": [
    {
      "cell_type": "markdown",
      "source": [
        "Name : Saarthak Khamkar\n",
        "\n",
        "Roll No : D088\n",
        "\n",
        "SAP ID : 60009230057"
      ],
      "metadata": {
        "id": "6923ddiPpurQ"
      }
    },
    {
      "cell_type": "markdown",
      "source": [
        "### Step 1: Load MNIST"
      ],
      "metadata": {
        "id": "hgoi--XboUIz"
      }
    },
    {
      "cell_type": "code",
      "execution_count": 1,
      "metadata": {
        "id": "4TFHqx3uoPWd"
      },
      "outputs": [],
      "source": [
        "from sklearn.datasets import fetch_openml\n",
        "import numpy as np\n",
        "\n",
        "# Load MNIST (70,000 images)\n",
        "X, y = fetch_openml('mnist_784', version=1, return_X_y=True, as_frame=False)\n",
        "X = X / 255.0\n",
        "y = y.astype(int)\n",
        "\n",
        "# Train-test split\n",
        "X_train, X_test = X[:60000], X[60000:]\n",
        "y_train, y_test = y[:60000], y[60000:]\n",
        "\n",
        "# One-hot encoding labels\n",
        "def one_hot(y, num_classes=10):\n",
        "    out = np.zeros((y.size, num_classes))\n",
        "    out[np.arange(y.size), y] = 1\n",
        "    return out\n",
        "\n",
        "Y_train = one_hot(y_train)\n",
        "Y_test = one_hot(y_test)"
      ]
    },
    {
      "cell_type": "markdown",
      "source": [
        "### Step 2: Define Neural Network"
      ],
      "metadata": {
        "id": "zlQMMDILoY0C"
      }
    },
    {
      "cell_type": "code",
      "source": [
        "def init_weights():\n",
        "    W1 = np.random.randn(784, 128) * 0.01\n",
        "    b1 = np.zeros((1, 128))\n",
        "    W2 = np.random.randn(128, 10) * 0.01\n",
        "    b2 = np.zeros((1, 10))\n",
        "    return W1, b1, W2, b2\n",
        "\n",
        "# Activation + softmax\n",
        "def relu(x): return np.maximum(0, x)\n",
        "def relu_deriv(x): return (x>0).astype(float)\n",
        "def softmax(x):\n",
        "    e = np.exp(x - np.max(x, axis=1, keepdims=True))\n",
        "    return e / np.sum(e, axis=1, keepdims=True)\n",
        "\n",
        "# Forward + loss\n",
        "def forward(X, W1, b1, W2, b2):\n",
        "    z1 = X @ W1 + b1\n",
        "    a1 = relu(z1)\n",
        "    z2 = a1 @ W2 + b2\n",
        "    a2 = softmax(z2)\n",
        "    return z1, a1, z2, a2\n",
        "\n",
        "def cross_entropy(y_true, y_pred):\n",
        "    m = y_true.shape[0]\n",
        "    return -np.sum(y_true * np.log(y_pred+1e-9))/m"
      ],
      "metadata": {
        "id": "Rk37MoLOoSvF"
      },
      "execution_count": 2,
      "outputs": []
    },
    {
      "cell_type": "markdown",
      "source": [
        "### Step 3: Backpropagation"
      ],
      "metadata": {
        "id": "WJaVNWUEodt3"
      }
    },
    {
      "cell_type": "code",
      "source": [
        "def backward(X, y, z1, a1, a2, W2):\n",
        "    m = X.shape[0]\n",
        "    dz2 = a2 - y\n",
        "    dW2 = (a1.T @ dz2) / m\n",
        "    db2 = np.sum(dz2, axis=0, keepdims=True) / m\n",
        "\n",
        "    da1 = dz2 @ W2.T\n",
        "    dz1 = da1 * relu_deriv(z1)\n",
        "    dW1 = (X.T @ dz1) / m\n",
        "    db1 = np.sum(dz1, axis=0, keepdims=True) / m\n",
        "\n",
        "    return dW1, db1, dW2, db2"
      ],
      "metadata": {
        "id": "_Ek8poMVofwt"
      },
      "execution_count": 3,
      "outputs": []
    },
    {
      "cell_type": "markdown",
      "source": [
        "### Step 4: Implement Optimizers"
      ],
      "metadata": {
        "id": "4JR-Q0cNojxy"
      }
    },
    {
      "cell_type": "code",
      "source": [
        "def sgd(params, grads, lr, state=None):\n",
        "    for p,g in zip(params, grads):\n",
        "        p -= lr * g\n",
        "\n",
        "def sgd_momentum(params, grads, lr, state, beta=0.9):\n",
        "    if state is None:\n",
        "        state = [np.zeros_like(p) for p in params]\n",
        "    for i,(p,g) in enumerate(zip(params, grads)):\n",
        "        state[i] = beta*state[i] + (1-beta)*g\n",
        "        p -= lr * state[i]\n",
        "    return state\n",
        "\n",
        "def adagrad(params, grads, lr, state, eps=1e-8):\n",
        "    if state is None:\n",
        "        state = [np.zeros_like(p) for p in params]\n",
        "    for i,(p,g) in enumerate(zip(params, grads)):\n",
        "        state[i] += g*g\n",
        "        p -= (lr / (np.sqrt(state[i])+eps)) * g\n",
        "    return state\n",
        "\n",
        "def rmsprop(params, grads, lr, state, beta=0.9, eps=1e-8):\n",
        "    if state is None:\n",
        "        state = [np.zeros_like(p) for p in params]\n",
        "    for i,(p,g) in enumerate(zip(params, grads)):\n",
        "        state[i] = beta*state[i] + (1-beta)*g*g\n",
        "        p -= (lr / (np.sqrt(state[i])+eps)) * g\n",
        "    return state\n",
        "\n",
        "def adadelta(params, grads, lr, state, rho=0.95, eps=1e-6):\n",
        "    if state is None:\n",
        "        state = [[np.zeros_like(p), np.zeros_like(p)] for p in params]\n",
        "    for i,(p,g) in enumerate(zip(params, grads)):\n",
        "        Eg2, Ex2 = state[i]\n",
        "        Eg2[:] = rho*Eg2 + (1-rho)*g*g\n",
        "        update = - (np.sqrt(Ex2+eps)/np.sqrt(Eg2+eps)) * g\n",
        "        p += update\n",
        "        Ex2[:] = rho*Ex2 + (1-rho)*update*update\n",
        "    return state\n",
        "\n",
        "def adam(params, grads, lr, state, beta1=0.9, beta2=0.999, eps=1e-8):\n",
        "    if state is None:\n",
        "        state = [[np.zeros_like(p), np.zeros_like(p), 0] for p in params]\n",
        "    for i,(p,g) in enumerate(zip(params, grads)):\n",
        "        m,v,t = state[i]\n",
        "        t += 1\n",
        "        m[:] = beta1*m + (1-beta1)*g\n",
        "        v[:] = beta2*v + (1-beta2)*g*g\n",
        "        m_hat = m / (1-beta1**t)\n",
        "        v_hat = v / (1-beta2**t)\n",
        "        p -= lr * m_hat / (np.sqrt(v_hat)+eps)\n",
        "        state[i][2] = t\n",
        "    return state"
      ],
      "metadata": {
        "id": "V4aUr1UeohQw"
      },
      "execution_count": 4,
      "outputs": []
    },
    {
      "cell_type": "markdown",
      "source": [
        "### Step 5: Training Loop"
      ],
      "metadata": {
        "id": "xdIbaN8yomQD"
      }
    },
    {
      "cell_type": "code",
      "source": [
        "def train(optimizer_fn, lr=0.01, batch_size=128, epochs=10):\n",
        "    W1, b1, W2, b2 = init_weights()\n",
        "    state = None\n",
        "\n",
        "    for epoch in range(epochs):\n",
        "        idx = np.random.permutation(len(X_train))\n",
        "        X_shuff, Y_shuff = X_train[idx], Y_train[idx]\n",
        "\n",
        "        for i in range(0, len(X_train), batch_size):\n",
        "            xb = X_shuff[i:i+batch_size]\n",
        "            yb = Y_shuff[i:i+batch_size]\n",
        "\n",
        "            z1,a1,z2,a2 = forward(xb, W1,b1,W2,b2)\n",
        "            dW1,db1,dW2,db2 = backward(xb, yb, z1,a1,a2, W2)\n",
        "\n",
        "            grads = [dW1,db1,dW2,db2]\n",
        "            params = [W1,b1,W2,b2]\n",
        "\n",
        "            out = optimizer_fn(params, grads, lr, state)\n",
        "            if out is not None: state = out\n",
        "\n",
        "    _,_,_,a2 = forward(X_test, W1,b1,W2,b2)\n",
        "    acc = np.mean(np.argmax(a2,axis=1)==y_test)\n",
        "    return acc"
      ],
      "metadata": {
        "id": "2SQHdm3KonJ6"
      },
      "execution_count": 5,
      "outputs": []
    },
    {
      "cell_type": "markdown",
      "source": [
        "### Step 6: Compare All Optimizers"
      ],
      "metadata": {
        "id": "ceBM2IRRooeI"
      }
    },
    {
      "cell_type": "code",
      "source": [
        "optimizers = {\n",
        "    \"SGD\": lambda p,g,lr,s: sgd(p,g,lr),\n",
        "    \"SGD Momentum\": lambda p,g,lr,s: sgd_momentum(p,g,lr,s),\n",
        "    \"Adagrad\": lambda p,g,lr,s: adagrad(p,g,lr,s),\n",
        "    \"RMSProp\": lambda p,g,lr,s: rmsprop(p,g,lr,s),\n",
        "    \"AdaDelta\": lambda p,g,lr,s: adadelta(p,g,lr,s),\n",
        "    \"Adam\": lambda p,g,lr,s: adam(p,g,lr,s)\n",
        "}\n",
        "\n",
        "for name,opt in optimizers.items():\n",
        "    acc = train(opt, lr=0.01)\n",
        "    print(f\"{name}: accuracy={acc:.4f}\")"
      ],
      "metadata": {
        "colab": {
          "base_uri": "https://localhost:8080/",
          "height": 0
        },
        "id": "5PBqP2Fwopql",
        "outputId": "af3c3ac4-e0c8-4157-87f0-65388b9b8618"
      },
      "execution_count": 6,
      "outputs": [
        {
          "output_type": "stream",
          "name": "stdout",
          "text": [
            "SGD: accuracy=0.9063\n",
            "SGD Momentum: accuracy=0.9063\n",
            "Adagrad: accuracy=0.9632\n",
            "RMSProp: accuracy=0.9713\n",
            "AdaDelta: accuracy=0.9793\n",
            "Adam: accuracy=0.9697\n"
          ]
        }
      ]
    },
    {
      "cell_type": "markdown",
      "source": [
        "COLAB LINK : https://colab.research.google.com/drive/1yJME4X0h374rmMkuuJJC5dyRvBEdc2EF?usp=sharing"
      ],
      "metadata": {
        "id": "QHLPFUti04gW"
      }
    }
  ]
}